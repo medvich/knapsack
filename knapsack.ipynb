{
 "cells": [
  {
   "cell_type": "code",
   "execution_count": 1,
   "id": "636300cb-9068-4f95-821d-e8d822fb50cd",
   "metadata": {},
   "outputs": [],
   "source": [
    "import numpy as np"
   ]
  },
  {
   "cell_type": "code",
   "execution_count": 2,
   "id": "8053a607-d84b-4f55-ba4e-705090a7e8b5",
   "metadata": {},
   "outputs": [],
   "source": [
    "class Item():\n",
    "    \n",
    "    def __init__(self, value, weight):\n",
    "        self.v = value\n",
    "        self.w = weight\n",
    "        self.density = value/weight\n",
    "    \n",
    "    def get_density(self):\n",
    "        return self.density\n",
    "    \n",
    "    def __str__(self):\n",
    "        return \"value: \"+str(self.v)+\" weight: \"+str(self.w)+\" density: \"+str(self.get_density())"
   ]
  },
  {
   "cell_type": "code",
   "execution_count": 69,
   "id": "5c42d2dc-6f15-4725-9422-af91c159c244",
   "metadata": {},
   "outputs": [],
   "source": [
    "n = 60\n",
    "np.random.seed(2376)\n",
    "I = [Item(np.random.randint(low=1, high=100), np.random.randint(low=2, high=20)) for _ in range(n)]\n",
    "V = []\n",
    "maxWeight = 30"
   ]
  },
  {
   "cell_type": "code",
   "execution_count": 66,
   "id": "ca6e9596-a284-4bac-b48a-ba4b2c292bd3",
   "metadata": {},
   "outputs": [
    {
     "data": {
      "text/plain": [
       "17.5"
      ]
     },
     "execution_count": 66,
     "metadata": {},
     "output_type": "execute_result"
    }
   ],
   "source": [
    "I[0].get_density()"
   ]
  },
  {
   "cell_type": "markdown",
   "id": "5bbce23f-68ae-425d-be48-ab2815d610b3",
   "metadata": {},
   "source": [
    "### 1. Полный перебо"
   ]
  },
  {
   "cell_type": "code",
   "execution_count": 70,
   "id": "4f8c716b-c050-43ae-9d3b-f87af80d6118",
   "metadata": {},
   "outputs": [],
   "source": [
    "def maxVal(items, maxWeight):\n",
    "    if items == [] or maxWeight == 0:\n",
    "        # end of tree\n",
    "        result = (0, ())\n",
    "    elif items[0].w > maxWeight:\n",
    "        # so large\n",
    "        result = maxVal(items[1:], maxWeight)\n",
    "    else:\n",
    "        # take or don't\n",
    "        nextItem = items[0]\n",
    "        withVal, withToTake = maxVal(items[1:], maxWeight - nextItem.w)\n",
    "        withVal += nextItem.v\n",
    "        withoutVal, withoutToTake = maxVal(items[1:], maxWeight)\n",
    "        if withVal > withoutVal:\n",
    "            result = (withVal, withToTake + (nextItem,))\n",
    "        else:\n",
    "            result = (withoutVal, withoutToTake)\n",
    "    return result"
   ]
  },
  {
   "cell_type": "code",
   "execution_count": 76,
   "id": "48d4623f-6a78-43f7-b119-5f661bdb63f0",
   "metadata": {},
   "outputs": [
    {
     "name": "stdout",
     "output_type": "stream",
     "text": [
      "1.7 s ± 28.6 ms per loop (mean ± std. dev. of 7 runs, 1 loop each)\n"
     ]
    }
   ],
   "source": [
    "%%timeit \n",
    "maxVal(I, maxWeight)"
   ]
  },
  {
   "cell_type": "code",
   "execution_count": 71,
   "id": "a28abb40-dbb7-463c-a323-f33467e444ef",
   "metadata": {},
   "outputs": [
    {
     "name": "stdout",
     "output_type": "stream",
     "text": [
      "CPU times: total: 1.83 s\n",
      "Wall time: 1.84 s\n"
     ]
    }
   ],
   "source": [
    "%%time\n",
    "V = maxVal(I, maxWeight)"
   ]
  },
  {
   "cell_type": "code",
   "execution_count": 72,
   "id": "46391369-3b44-40d9-9560-32ec1417b5cf",
   "metadata": {},
   "outputs": [
    {
     "name": "stdout",
     "output_type": "stream",
     "text": [
      "617\n",
      "value: 62 weight: 3 density: 20.666666666666668\n",
      "value: 94 weight: 4 density: 23.5\n",
      "value: 73 weight: 5 density: 14.6\n",
      "value: 90 weight: 5 density: 18.0\n",
      "value: 84 weight: 3 density: 28.0\n",
      "value: 69 weight: 2 density: 34.5\n",
      "value: 96 weight: 6 density: 16.0\n",
      "value: 49 weight: 2 density: 24.5\n"
     ]
    }
   ],
   "source": [
    "print(V[0])\n",
    "for it in V[1]:\n",
    "    print(it)"
   ]
  },
  {
   "cell_type": "markdown",
   "id": "c3944a57-9db0-410c-abc1-93920d6850af",
   "metadata": {},
   "source": [
    "### 2. Динамичсекое программирование"
   ]
  },
  {
   "cell_type": "code",
   "execution_count": 73,
   "id": "2fbf9422-07b0-40d1-a240-0775ce325445",
   "metadata": {},
   "outputs": [],
   "source": [
    "def fastMaxVal(items, maxWeight, memo={}):\n",
    "    if items == [] or maxWeight == 0:\n",
    "        # end of tree\n",
    "        result = (0, ())\n",
    "    elif items[0].w > maxWeight:\n",
    "        # so large\n",
    "        try:\n",
    "            result = memo[(len(items[1:]), maxWeight)]\n",
    "        except KeyError:\n",
    "            result = fastMaxVal(items[1:], maxWeight, memo)\n",
    "            memo[(len(items[1:]), maxWeight)] = result\n",
    "    else:\n",
    "        # take or don't\n",
    "        nextItem = items[0]\n",
    "        \n",
    "        try:\n",
    "            withVal, withToTake = memo[(len(items[1:]), maxWeight - nextItem.w)]\n",
    "        except KeyError:\n",
    "            withVal, withToTake = fastMaxVal(items[1:], maxWeight - nextItem.w, memo)\n",
    "            memo[(len(items[1:]), maxWeight - nextItem.w)] = (withVal, withToTake)\n",
    "        withVal += nextItem.v\n",
    "        \n",
    "        try:\n",
    "            withoutVal, withoutToTake = memo[(len(items[1:]), maxWeight)]\n",
    "        except KeyError:\n",
    "            withoutVal, withoutToTake = fastMaxVal(items[1:], maxWeight, memo)\n",
    "            memo[(len(items[1:]), maxWeight)] = (withoutVal, withoutToTake)\n",
    "        \n",
    "        if withVal > withoutVal:\n",
    "            result = (withVal, withToTake + (nextItem,))\n",
    "        else:\n",
    "            result = (withoutVal, withoutToTake)\n",
    "\n",
    "    return result"
   ]
  },
  {
   "cell_type": "code",
   "execution_count": 77,
   "id": "cc71a94b-386b-43be-b162-5bce123a5035",
   "metadata": {},
   "outputs": [
    {
     "name": "stdout",
     "output_type": "stream",
     "text": [
      "1.55 µs ± 11.4 ns per loop (mean ± std. dev. of 7 runs, 1,000,000 loops each)\n"
     ]
    }
   ],
   "source": [
    "%%timeit\n",
    "fastMaxVal(I, maxWeight)"
   ]
  },
  {
   "cell_type": "code",
   "execution_count": 74,
   "id": "9e637b48-d5e7-4d99-ab01-6150cb4e9f5b",
   "metadata": {},
   "outputs": [
    {
     "name": "stdout",
     "output_type": "stream",
     "text": [
      "CPU times: total: 0 ns\n",
      "Wall time: 5.5 ms\n"
     ]
    }
   ],
   "source": [
    "%%time\n",
    "V = fastMaxVal(I, maxWeight)"
   ]
  },
  {
   "cell_type": "code",
   "execution_count": 75,
   "id": "f5f821aa-289f-49d9-96a6-fcedaac3fe2d",
   "metadata": {},
   "outputs": [
    {
     "name": "stdout",
     "output_type": "stream",
     "text": [
      "617\n",
      "value: 62 weight: 3 density: 20.666666666666668\n",
      "value: 94 weight: 4 density: 23.5\n",
      "value: 73 weight: 5 density: 14.6\n",
      "value: 90 weight: 5 density: 18.0\n",
      "value: 84 weight: 3 density: 28.0\n",
      "value: 69 weight: 2 density: 34.5\n",
      "value: 96 weight: 6 density: 16.0\n",
      "value: 49 weight: 2 density: 24.5\n"
     ]
    }
   ],
   "source": [
    "print(V[0])\n",
    "for it in V[1]:\n",
    "    print(it)"
   ]
  },
  {
   "cell_type": "markdown",
   "id": "45d6f74b-2f92-49db-be0d-709ec1277976",
   "metadata": {},
   "source": [
    "### 3. Жадный алгоритм"
   ]
  },
  {
   "cell_type": "code",
   "execution_count": 78,
   "id": "90402bc3-3aa7-4ae7-b747-06d01f82dfe7",
   "metadata": {},
   "outputs": [],
   "source": [
    "def greedy(items, maxWeight, keyFunction):\n",
    "    itemsCopy = sorted(items, key = keyFunction, reverse = True)\n",
    "    result = []\n",
    "    totalValue, totalWeight = 0.0, 0.0\n",
    "    for i in range(len(itemsCopy)):\n",
    "        if (totalWeight+itemsCopy[i].w) <= maxWeight:\n",
    "            result.append(itemsCopy[i])\n",
    "            totalWeight += itemsCopy[i].w\n",
    "            totalValue += itemsCopy[i].v\n",
    "    return (result, totalValue)\n",
    "\n",
    "def testGreedy(items, constraint, keyFunction):\n",
    "    taken, val = greedy(items, constraint, keyFunction)\n",
    "    print('Total value of items taken =', val)\n",
    "    for item in taken:\n",
    "        print(' ', item)"
   ]
  },
  {
   "cell_type": "code",
   "execution_count": 79,
   "id": "6d9b41e8-aaef-46ba-a07d-97eca21e1992",
   "metadata": {},
   "outputs": [
    {
     "name": "stdout",
     "output_type": "stream",
     "text": [
      "Total value of items taken = 614.0\n",
      "  value: 69 weight: 2 density: 34.5\n",
      "  value: 84 weight: 3 density: 28.0\n",
      "  value: 49 weight: 2 density: 24.5\n",
      "  value: 94 weight: 4 density: 23.5\n",
      "  value: 62 weight: 3 density: 20.666666666666668\n",
      "  value: 90 weight: 5 density: 18.0\n",
      "  value: 70 weight: 4 density: 17.5\n",
      "  value: 51 weight: 3 density: 17.0\n",
      "  value: 45 weight: 4 density: 11.25\n",
      "CPU times: total: 0 ns\n",
      "Wall time: 1.5 ms\n"
     ]
    }
   ],
   "source": [
    "%%time\n",
    "V = testGreedy(I, maxWeight, Item.get_density)"
   ]
  },
  {
   "cell_type": "markdown",
   "id": "4cf67819-b293-4196-a5c3-8a016b017cae",
   "metadata": {},
   "source": [
    "### 4. Случайный перебор"
   ]
  },
  {
   "cell_type": "code",
   "execution_count": null,
   "id": "51ae381b-46a4-451c-a2e0-6ce107606e48",
   "metadata": {},
   "outputs": [],
   "source": []
  }
 ],
 "metadata": {
  "kernelspec": {
   "display_name": "Python 3 (ipykernel)",
   "language": "python",
   "name": "python3"
  },
  "language_info": {
   "codemirror_mode": {
    "name": "ipython",
    "version": 3
   },
   "file_extension": ".py",
   "mimetype": "text/x-python",
   "name": "python",
   "nbconvert_exporter": "python",
   "pygments_lexer": "ipython3",
   "version": "3.9.12"
  }
 },
 "nbformat": 4,
 "nbformat_minor": 5
}
