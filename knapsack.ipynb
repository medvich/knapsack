{
 "cells": [
  {
   "cell_type": "code",
   "execution_count": 1,
   "id": "636300cb-9068-4f95-821d-e8d822fb50cd",
   "metadata": {},
   "outputs": [],
   "source": [
    "import numpy as np"
   ]
  },
  {
   "cell_type": "code",
   "execution_count": 2,
   "id": "8053a607-d84b-4f55-ba4e-705090a7e8b5",
   "metadata": {},
   "outputs": [],
   "source": [
    "class Item():\n",
    "    \n",
    "    def __init__(self, value, weight):\n",
    "        self.v = value\n",
    "        self.w = weight\n",
    "        self.density = value/weight\n",
    "    \n",
    "    def get_density(self):\n",
    "        return self.density\n",
    "    \n",
    "    def __str__(self):\n",
    "        return \"value: \"+str(self.v)+\" weight: \"+str(self.w)+\" density: \"+str(self.get_density())"
   ]
  },
  {
   "cell_type": "code",
   "execution_count": 3,
   "id": "5c42d2dc-6f15-4725-9422-af91c159c244",
   "metadata": {},
   "outputs": [],
   "source": [
    "n = 10\n",
    "np.random.seed(2376)\n",
    "I = [Item(np.random.randint(low=1, high=100), np.random.randint(low=2, high=20)) for _ in range(n)]\n",
    "V = []\n",
    "maxWeight = 30"
   ]
  },
  {
   "cell_type": "code",
   "execution_count": null,
   "id": "ca6e9596-a284-4bac-b48a-ba4b2c292bd3",
   "metadata": {},
   "outputs": [],
   "source": [
    "I[0].get_density()"
   ]
  },
  {
   "cell_type": "markdown",
   "id": "5bbce23f-68ae-425d-be48-ab2815d610b3",
   "metadata": {},
   "source": [
    "### 1. Полный перебо"
   ]
  },
  {
   "cell_type": "code",
   "execution_count": null,
   "id": "39e86a85-585e-493f-b0a6-e9185af0fe38",
   "metadata": {},
   "outputs": [],
   "source": []
  },
  {
   "cell_type": "markdown",
   "id": "c3944a57-9db0-410c-abc1-93920d6850af",
   "metadata": {},
   "source": [
    "### 2. Динамичсекое программирование"
   ]
  },
  {
   "cell_type": "code",
   "execution_count": null,
   "id": "2fbf9422-07b0-40d1-a240-0775ce325445",
   "metadata": {},
   "outputs": [],
   "source": []
  },
  {
   "cell_type": "markdown",
   "id": "45d6f74b-2f92-49db-be0d-709ec1277976",
   "metadata": {},
   "source": [
    "### 3. Жадный алгоритм"
   ]
  },
  {
   "cell_type": "code",
   "execution_count": null,
   "id": "90402bc3-3aa7-4ae7-b747-06d01f82dfe7",
   "metadata": {},
   "outputs": [],
   "source": []
  },
  {
   "cell_type": "markdown",
   "id": "4cf67819-b293-4196-a5c3-8a016b017cae",
   "metadata": {},
   "source": [
    "### 4. Случайный перебор"
   ]
  },
  {
   "cell_type": "code",
   "execution_count": null,
   "id": "51ae381b-46a4-451c-a2e0-6ce107606e48",
   "metadata": {},
   "outputs": [],
   "source": []
  }
 ],
 "metadata": {
  "kernelspec": {
   "display_name": "Python 3 (ipykernel)",
   "language": "python",
   "name": "python3"
  },
  "language_info": {
   "codemirror_mode": {
    "name": "ipython",
    "version": 3
   },
   "file_extension": ".py",
   "mimetype": "text/x-python",
   "name": "python",
   "nbconvert_exporter": "python",
   "pygments_lexer": "ipython3",
   "version": "3.9.12"
  }
 },
 "nbformat": 4,
 "nbformat_minor": 5
}
